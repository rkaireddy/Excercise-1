{
 "cells": [
  {
   "cell_type": "markdown",
   "id": "91e2061c-7ec7-4454-8e93-158c3a97179d",
   "metadata": {},
   "source": [
    "                    #Data Science Tools and Ecosystem"
   ]
  },
  {
   "cell_type": "markdown",
   "id": "cd7d53de-ef7c-4ab9-b9c2-8744513666ca",
   "metadata": {},
   "source": [
    "In this notebook, Data Science Tools and Ecosystem are summarized"
   ]
  },
  {
   "cell_type": "markdown",
   "id": "34d94aff-a0d4-41ea-824d-73967a16f773",
   "metadata": {},
   "source": [
    "Some of the popular languages that Data Scientists use are:\n",
    "1)python\n",
    "2)R\n",
    "3)Java"
   ]
  },
  {
   "cell_type": "markdown",
   "id": "4ced7acd-e1de-4bba-b0a7-2844cfed193c",
   "metadata": {},
   "source": [
    "Some of the commonly used libraries used by Data Scientists include:\n",
    "1)scikit\n",
    "2)Tensorflow"
   ]
  },
  {
   "attachments": {},
   "cell_type": "markdown",
   "id": "be4faf62-2320-475c-9a53-f76f868c38eb",
   "metadata": {},
   "source": [
    "|Data Science Tools|\n",
    "|------------------|\n",
    "|Jupyter           |\n",
    "|R Program         |\n",
    "|Matlab            |\n"
   ]
  },
  {
   "cell_type": "code",
   "execution_count": null,
   "id": "279d9f19-cd7d-488b-b320-5205110eb23c",
   "metadata": {},
   "outputs": [],
   "source": [
    "###Below are a few examples of evaluating arithmetic expressions in Python"
   ]
  },
  {
   "cell_type": "code",
   "execution_count": 2,
   "id": "aa8b6dba-e248-4539-94c1-06e96509e100",
   "metadata": {},
   "outputs": [
    {
     "name": "stdout",
     "output_type": "stream",
     "text": [
      "17\n"
     ]
    }
   ],
   "source": [
    "#This a simple arithmetic expression to mutiply then add integers\n",
    "print((3*4)+5)\n"
   ]
  },
  {
   "cell_type": "code",
   "execution_count": 3,
   "id": "950cedcc-90fb-42c1-b9aa-eca368b125bd",
   "metadata": {},
   "outputs": [
    {
     "name": "stdout",
     "output_type": "stream",
     "text": [
      "3.3333333333333335\n"
     ]
    }
   ],
   "source": [
    "#This will convert 200 minutes to hours by diving by 60\n",
    "minutes=200\n",
    "convert_to_hours=minutes/60\n",
    "print(convert_to_hours)"
   ]
  },
  {
   "cell_type": "markdown",
   "id": "d77542b1-bcbf-4997-90e1-6c7e47b8e303",
   "metadata": {},
   "source": [
    "**Objectives**\n",
    "List popular languages for Data Science\n",
    "Create tables using Markdown\n",
    "Describe open-source development tools used in Data Science\n",
    "Understand basic concepts of Data Science methodology"
   ]
  },
  {
   "cell_type": "markdown",
   "id": "b8265bd0-b4ea-44cb-960b-175911b60fa2",
   "metadata": {},
   "source": [
    "##Author##\n",
    "Rajanikanth A"
   ]
  }
 ],
 "metadata": {
  "kernelspec": {
   "display_name": "Python 3 (ipykernel)",
   "language": "python",
   "name": "python3"
  },
  "language_info": {
   "codemirror_mode": {
    "name": "ipython",
    "version": 3
   },
   "file_extension": ".py",
   "mimetype": "text/x-python",
   "name": "python",
   "nbconvert_exporter": "python",
   "pygments_lexer": "ipython3",
   "version": "3.12.9"
  }
 },
 "nbformat": 4,
 "nbformat_minor": 5
}
